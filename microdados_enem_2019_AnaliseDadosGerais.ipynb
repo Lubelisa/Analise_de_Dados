{
 "cells": [
  {
   "cell_type": "markdown",
   "metadata": {},
   "source": [
    "# Análise dos Microdados do Enem"
   ]
  },
  {
   "cell_type": "code",
   "execution_count": 3,
   "metadata": {},
   "outputs": [],
   "source": [
    "import pandas as pd"
   ]
  },
  {
   "cell_type": "markdown",
   "metadata": {},
   "source": [
    "### Analisando os dados gerais dos candidatos"
   ]
  },
  {
   "cell_type": "markdown",
   "metadata": {},
   "source": [
    "Primeiro, vamos ver quais os municípios dos quais as pessoas mais fazem e menos fazem o Enem."
   ]
  },
  {
   "cell_type": "code",
   "execution_count": 4,
   "metadata": {},
   "outputs": [],
   "source": [
    "microdadosEnem_NO_MUNICIPIO_RESIDENCIA = pd.read_csv('brutos/MICRODADOS_ENEM_2019.csv', sep=';', encoding='ISO-8859-1', usecols=['NO_MUNICIPIO_RESIDENCIA'])"
   ]
  },
  {
   "cell_type": "code",
   "execution_count": 8,
   "metadata": {
    "scrolled": true
   },
   "outputs": [
    {
     "data": {
      "text/plain": [
       "NO_MUNICIPIO_RESIDENCIA\n",
       "São Paulo                  229837\n",
       "Rio de Janeiro             137762\n",
       "Brasília                    94352\n",
       "Fortaleza                   93959\n",
       "Salvador                    88557\n",
       "                            ...  \n",
       "Coronel Pilar                   9\n",
       "Pracinha                        9\n",
       "Sério                           8\n",
       "Araguainha                      6\n",
       "Forquetinha                     5\n",
       "Length: 5299, dtype: int64"
      ]
     },
     "execution_count": 8,
     "metadata": {},
     "output_type": "execute_result"
    }
   ],
   "source": [
    "microdadosEnem_NO_MUNICIPIO_RESIDENCIA.value_counts()"
   ]
  },
  {
   "cell_type": "markdown",
   "metadata": {},
   "source": [
    "Agora vamos ver qual a idade das pessoas que fazem o Enem."
   ]
  },
  {
   "cell_type": "code",
   "execution_count": 5,
   "metadata": {},
   "outputs": [],
   "source": [
    "microdadosEnem_NU_IDADE = pd.read_csv('brutos/MICRODADOS_ENEM_2019.csv', sep=';', encoding='ISO-8859-1', usecols=['NU_IDADE'])"
   ]
  },
  {
   "cell_type": "code",
   "execution_count": 6,
   "metadata": {},
   "outputs": [
    {
     "data": {
      "text/html": [
       "<div>\n",
       "<style scoped>\n",
       "    .dataframe tbody tr th:only-of-type {\n",
       "        vertical-align: middle;\n",
       "    }\n",
       "\n",
       "    .dataframe tbody tr th {\n",
       "        vertical-align: top;\n",
       "    }\n",
       "\n",
       "    .dataframe thead th {\n",
       "        text-align: right;\n",
       "    }\n",
       "</style>\n",
       "<table border=\"1\" class=\"dataframe\">\n",
       "  <thead>\n",
       "    <tr style=\"text-align: right;\">\n",
       "      <th></th>\n",
       "      <th>NU_IDADE</th>\n",
       "    </tr>\n",
       "  </thead>\n",
       "  <tbody>\n",
       "    <tr>\n",
       "      <th>0</th>\n",
       "      <td>21</td>\n",
       "    </tr>\n",
       "    <tr>\n",
       "      <th>1</th>\n",
       "      <td>16</td>\n",
       "    </tr>\n",
       "    <tr>\n",
       "      <th>2</th>\n",
       "      <td>18</td>\n",
       "    </tr>\n",
       "    <tr>\n",
       "      <th>3</th>\n",
       "      <td>23</td>\n",
       "    </tr>\n",
       "    <tr>\n",
       "      <th>4</th>\n",
       "      <td>23</td>\n",
       "    </tr>\n",
       "    <tr>\n",
       "      <th>...</th>\n",
       "      <td>...</td>\n",
       "    </tr>\n",
       "    <tr>\n",
       "      <th>5095265</th>\n",
       "      <td>28</td>\n",
       "    </tr>\n",
       "    <tr>\n",
       "      <th>5095266</th>\n",
       "      <td>25</td>\n",
       "    </tr>\n",
       "    <tr>\n",
       "      <th>5095267</th>\n",
       "      <td>18</td>\n",
       "    </tr>\n",
       "    <tr>\n",
       "      <th>5095268</th>\n",
       "      <td>16</td>\n",
       "    </tr>\n",
       "    <tr>\n",
       "      <th>5095269</th>\n",
       "      <td>25</td>\n",
       "    </tr>\n",
       "  </tbody>\n",
       "</table>\n",
       "<p>5095270 rows × 1 columns</p>\n",
       "</div>"
      ],
      "text/plain": [
       "         NU_IDADE\n",
       "0              21\n",
       "1              16\n",
       "2              18\n",
       "3              23\n",
       "4              23\n",
       "...           ...\n",
       "5095265        28\n",
       "5095266        25\n",
       "5095267        18\n",
       "5095268        16\n",
       "5095269        25\n",
       "\n",
       "[5095270 rows x 1 columns]"
      ]
     },
     "execution_count": 6,
     "metadata": {},
     "output_type": "execute_result"
    }
   ],
   "source": [
    "microdadosEnem_NU_IDADE"
   ]
  },
  {
   "cell_type": "code",
   "execution_count": 7,
   "metadata": {},
   "outputs": [
    {
     "data": {
      "text/plain": [
       "NU_IDADE\n",
       "18          864186\n",
       "17          847303\n",
       "19          577161\n",
       "20          409385\n",
       "16          316437\n",
       "             ...  \n",
       "91               2\n",
       "92               1\n",
       "87               1\n",
       "88               1\n",
       "94               1\n",
       "Length: 91, dtype: int64"
      ]
     },
     "execution_count": 7,
     "metadata": {},
     "output_type": "execute_result"
    }
   ],
   "source": [
    "microdadosEnem_NU_IDADE.value_counts()"
   ]
  },
  {
   "cell_type": "code",
   "execution_count": 35,
   "metadata": {
    "scrolled": true
   },
   "outputs": [
    {
     "data": {
      "text/plain": [
       "<AxesSubplot:xlabel='NU_IDADE'>"
      ]
     },
     "execution_count": 35,
     "metadata": {},
     "output_type": "execute_result"
    },
    {
     "data": {
      "image/png": "[encoded data removed]",
      "text/plain": [
       "<Figure size 1080x576 with 1 Axes>"
      ]
     },
     "metadata": {
      "needs_background": "light"
     },
     "output_type": "display_data"
    }
   ],
   "source": [
    "col_NU_IDADE = microdadosEnem_NU_IDADE.value_counts().sort_index()\n",
    "col_NU_IDADE.plot(figsize=(15,8))"
   ]
  },
  {
   "cell_type": "code",
   "execution_count": 42,
   "metadata": {
    "scrolled": false
   },
   "outputs": [
    {
     "name": "stdout",
     "output_type": "stream",
     "text": [
      "(1, 94)\n"
     ]
    }
   ],
   "source": [
    "# Idade mínima e máxima de quem se inscreveu no Enem em 2019\n",
    "print((microdadosEnem_NU_IDADE.min()[0], microdadosEnem_NU_IDADE.max()[0]))"
   ]
  },
  {
   "cell_type": "markdown",
   "metadata": {},
   "source": [
    "Vamos ver agora quais os estados de residência dos alunos do Enem que são mais ou menos frequentes."
   ]
  },
  {
   "cell_type": "code",
   "execution_count": 43,
   "metadata": {},
   "outputs": [],
   "source": [
    "microdadosEnem_SG_UF_RESIDENCIA = pd.read_csv('brutos/MICRODADOS_ENEM_2019.csv', sep=';', encoding='ISO-8859-1', usecols=['SG_UF_RESIDENCIA'])"
   ]
  },
  {
   "cell_type": "code",
   "execution_count": 44,
   "metadata": {
    "scrolled": true
   },
   "outputs": [
    {
     "data": {
      "text/plain": [
       "SG_UF_RESIDENCIA\n",
       "SP                  813772\n",
       "MG                  538896\n",
       "BA                  398095\n",
       "RJ                  338710\n",
       "CE                  295870\n",
       "PA                  281518\n",
       "PE                  271727\n",
       "MA                  219673\n",
       "RS                  218763\n",
       "PR                  210080\n",
       "GO                  170147\n",
       "PB                  147780\n",
       "PI                  121181\n",
       "RN                  119179\n",
       "AM                  118087\n",
       "SC                  109515\n",
       "ES                  102435\n",
       "DF                   94352\n",
       "AL                   91707\n",
       "MT                   88349\n",
       "SE                   75895\n",
       "MS                   70157\n",
       "RO                   58885\n",
       "TO                   47181\n",
       "AP                   42140\n",
       "AC                   38229\n",
       "RR                   12947\n",
       "dtype: int64"
      ]
     },
     "execution_count": 44,
     "metadata": {},
     "output_type": "execute_result"
    }
   ],
   "source": [
    "microdadosEnem_SG_UF_RESIDENCIA.value_counts()"
   ]
  },
  {
   "cell_type": "markdown",
   "metadata": {},
   "source": [
    "Vamos ver agora como estão distribuídos os alunos do Enem por cor/raça."
   ]
  },
  {
   "cell_type": "code",
   "execution_count": 50,
   "metadata": {},
   "outputs": [],
   "source": [
    "microdadosEnem_TP_COR_RACA = pd.read_csv('brutos/MICRODADOS_ENEM_2019.csv', sep=';', encoding='ISO-8859-1', usecols=['TP_COR_RACA'])"
   ]
  },
  {
   "cell_type": "code",
   "execution_count": 51,
   "metadata": {},
   "outputs": [
    {
     "data": {
      "text/html": [
       "<div>\n",
       "<style scoped>\n",
       "    .dataframe tbody tr th:only-of-type {\n",
       "        vertical-align: middle;\n",
       "    }\n",
       "\n",
       "    .dataframe tbody tr th {\n",
       "        vertical-align: top;\n",
       "    }\n",
       "\n",
       "    .dataframe thead th {\n",
       "        text-align: right;\n",
       "    }\n",
       "</style>\n",
       "<table border=\"1\" class=\"dataframe\">\n",
       "  <thead>\n",
       "    <tr style=\"text-align: right;\">\n",
       "      <th></th>\n",
       "      <th>TP_COR_RACA</th>\n",
       "    </tr>\n",
       "  </thead>\n",
       "  <tbody>\n",
       "    <tr>\n",
       "      <th>0</th>\n",
       "      <td>3</td>\n",
       "    </tr>\n",
       "    <tr>\n",
       "      <th>1</th>\n",
       "      <td>3</td>\n",
       "    </tr>\n",
       "    <tr>\n",
       "      <th>2</th>\n",
       "      <td>1</td>\n",
       "    </tr>\n",
       "    <tr>\n",
       "      <th>3</th>\n",
       "      <td>3</td>\n",
       "    </tr>\n",
       "    <tr>\n",
       "      <th>4</th>\n",
       "      <td>3</td>\n",
       "    </tr>\n",
       "  </tbody>\n",
       "</table>\n",
       "</div>"
      ],
      "text/plain": [
       "   TP_COR_RACA\n",
       "0            3\n",
       "1            3\n",
       "2            1\n",
       "3            3\n",
       "4            3"
      ]
     },
     "execution_count": 51,
     "metadata": {},
     "output_type": "execute_result"
    }
   ],
   "source": [
    "microdadosEnem_TP_COR_RACA.head()"
   ]
  },
  {
   "cell_type": "code",
   "execution_count": 52,
   "metadata": {},
   "outputs": [],
   "source": [
    "# Aqui formatamos os dados para serem melhores de visualizar\n",
    "microdadosEnem_TP_COR_RACA['TP_COR_RACA'] = ['Não declarado' if i == 0 else i for i in microdadosEnem_TP_COR_RACA['TP_COR_RACA']]\n",
    "microdadosEnem_TP_COR_RACA['TP_COR_RACA'] = ['Branca' if i == 1 else i for i in microdadosEnem_TP_COR_RACA['TP_COR_RACA']]\n",
    "microdadosEnem_TP_COR_RACA['TP_COR_RACA'] = ['Preta' if i == 2 else i for i in microdadosEnem_TP_COR_RACA['TP_COR_RACA']]\n",
    "microdadosEnem_TP_COR_RACA['TP_COR_RACA'] = ['Parda' if i == 3 else i for i in microdadosEnem_TP_COR_RACA['TP_COR_RACA']]\n",
    "microdadosEnem_TP_COR_RACA['TP_COR_RACA'] = ['Amarela' if i == 4 else i for i in microdadosEnem_TP_COR_RACA['TP_COR_RACA']]\n",
    "microdadosEnem_TP_COR_RACA['TP_COR_RACA'] = ['Indígena ' if i == 5 else i for i in microdadosEnem_TP_COR_RACA['TP_COR_RACA']]"
   ]
  },
  {
   "cell_type": "code",
   "execution_count": 54,
   "metadata": {
    "scrolled": true
   },
   "outputs": [
    {
     "data": {
      "text/plain": [
       "TP_COR_RACA  \n",
       "Parda            2364063\n",
       "Branca           1831779\n",
       "Preta             648309\n",
       "Amarela           116162\n",
       "Não declarado     103201\n",
       "Indígena           31756\n",
       "dtype: int64"
      ]
     },
     "execution_count": 54,
     "metadata": {},
     "output_type": "execute_result"
    }
   ],
   "source": [
    "microdadosEnem_TP_COR_RACA.value_counts()"
   ]
  },
  {
   "cell_type": "markdown",
   "metadata": {},
   "source": [
    "Agora uma análise da escolaridade dos alunos do Enem. Vamos descobrir se os candidatos em sua maioria terminaram ou não o ensino médio."
   ]
  },
  {
   "cell_type": "code",
   "execution_count": 55,
   "metadata": {},
   "outputs": [],
   "source": [
    "microdadosEnem_TP_ST_CONCLUSAO = pd.read_csv('brutos/MICRODADOS_ENEM_2019.csv', sep=';', encoding='ISO-8859-1', usecols=['TP_ST_CONCLUSAO'])"
   ]
  },
  {
   "cell_type": "code",
   "execution_count": 56,
   "metadata": {},
   "outputs": [],
   "source": [
    "# Aqui formatamos os dados para serem melhores de visualizar\n",
    "microdadosEnem_TP_ST_CONCLUSAO['TP_ST_CONCLUSAO'] = ['Já concluí o Ensino Médio' if i == 1 else i for i in microdadosEnem_TP_ST_CONCLUSAO['TP_ST_CONCLUSAO']]\n",
    "microdadosEnem_TP_ST_CONCLUSAO['TP_ST_CONCLUSAO'] = ['Estou cursando e concluirei o Ensino Médio em 2019' if i == 2 else i for i in microdadosEnem_TP_ST_CONCLUSAO['TP_ST_CONCLUSAO']]\n",
    "microdadosEnem_TP_ST_CONCLUSAO['TP_ST_CONCLUSAO'] = ['Estou cursando e concluirei o Ensino Médio após 2019' if i == 3 else i for i in microdadosEnem_TP_ST_CONCLUSAO['TP_ST_CONCLUSAO']]\n",
    "microdadosEnem_TP_ST_CONCLUSAO['TP_ST_CONCLUSAO'] = ['Não concluí e não estou cursando o Ensino Médio' if i == 4 else i for i in microdadosEnem_TP_ST_CONCLUSAO['TP_ST_CONCLUSAO']]"
   ]
  },
  {
   "cell_type": "code",
   "execution_count": 58,
   "metadata": {},
   "outputs": [
    {
     "data": {
      "text/plain": [
       "TP_ST_CONCLUSAO                                     \n",
       "Já concluí o Ensino Médio                               2992921\n",
       "Estou cursando e concluirei o Ensino Médio em 2019      1465895\n",
       "Estou cursando e concluirei o Ensino Médio após 2019     616668\n",
       "Não concluí e não estou cursando o Ensino Médio           19786\n",
       "dtype: int64"
      ]
     },
     "execution_count": 58,
     "metadata": {},
     "output_type": "execute_result"
    }
   ],
   "source": [
    "microdadosEnem_TP_ST_CONCLUSAO.value_counts()"
   ]
  },
  {
   "cell_type": "markdown",
   "metadata": {},
   "source": [
    "Tendo os dados de conclusão, vamos ver em que ano os alunos concluíram (ou concluirão) o ensino médio."
   ]
  },
  {
   "cell_type": "code",
   "execution_count": 59,
   "metadata": {},
   "outputs": [],
   "source": [
    "microdadosEnem_TP_ANO_CONCLUIU = pd.read_csv('brutos/MICRODADOS_ENEM_2019.csv', sep=';', encoding='ISO-8859-1', usecols=['TP_ANO_CONCLUIU'])"
   ]
  },
  {
   "cell_type": "code",
   "execution_count": 62,
   "metadata": {},
   "outputs": [
    {
     "data": {
      "text/html": [
       "<div>\n",
       "<style scoped>\n",
       "    .dataframe tbody tr th:only-of-type {\n",
       "        vertical-align: middle;\n",
       "    }\n",
       "\n",
       "    .dataframe tbody tr th {\n",
       "        vertical-align: top;\n",
       "    }\n",
       "\n",
       "    .dataframe thead th {\n",
       "        text-align: right;\n",
       "    }\n",
       "</style>\n",
       "<table border=\"1\" class=\"dataframe\">\n",
       "  <thead>\n",
       "    <tr style=\"text-align: right;\">\n",
       "      <th></th>\n",
       "      <th>TP_ANO_CONCLUIU</th>\n",
       "    </tr>\n",
       "  </thead>\n",
       "  <tbody>\n",
       "    <tr>\n",
       "      <th>0</th>\n",
       "      <td>3</td>\n",
       "    </tr>\n",
       "    <tr>\n",
       "      <th>1</th>\n",
       "      <td>0</td>\n",
       "    </tr>\n",
       "    <tr>\n",
       "      <th>2</th>\n",
       "      <td>0</td>\n",
       "    </tr>\n",
       "    <tr>\n",
       "      <th>3</th>\n",
       "      <td>0</td>\n",
       "    </tr>\n",
       "    <tr>\n",
       "      <th>4</th>\n",
       "      <td>5</td>\n",
       "    </tr>\n",
       "  </tbody>\n",
       "</table>\n",
       "</div>"
      ],
      "text/plain": [
       "   TP_ANO_CONCLUIU\n",
       "0                3\n",
       "1                0\n",
       "2                0\n",
       "3                0\n",
       "4                5"
      ]
     },
     "execution_count": 62,
     "metadata": {},
     "output_type": "execute_result"
    }
   ],
   "source": [
    "microdadosEnem_TP_ANO_CONCLUIU.head()"
   ]
  },
  {
   "cell_type": "code",
   "execution_count": 63,
   "metadata": {},
   "outputs": [],
   "source": [
    "# Aqui formatamos os dados para serem melhores de visualizar\n",
    "microdadosEnem_TP_ANO_CONCLUIU['TP_ANO_CONCLUIU'] = ['Não informado' if i == 0 else i for i in microdadosEnem_TP_ANO_CONCLUIU['TP_ANO_CONCLUIU']]\n",
    "microdadosEnem_TP_ANO_CONCLUIU['TP_ANO_CONCLUIU'] = ['2018' if i == 1 else i for i in microdadosEnem_TP_ANO_CONCLUIU['TP_ANO_CONCLUIU']]\n",
    "microdadosEnem_TP_ANO_CONCLUIU['TP_ANO_CONCLUIU'] = ['2017' if i == 2 else i for i in microdadosEnem_TP_ANO_CONCLUIU['TP_ANO_CONCLUIU']]\n",
    "microdadosEnem_TP_ANO_CONCLUIU['TP_ANO_CONCLUIU'] = ['2016' if i == 3 else i for i in microdadosEnem_TP_ANO_CONCLUIU['TP_ANO_CONCLUIU']]\n",
    "microdadosEnem_TP_ANO_CONCLUIU['TP_ANO_CONCLUIU'] = ['2015' if i == 4 else i for i in microdadosEnem_TP_ANO_CONCLUIU['TP_ANO_CONCLUIU']]\n",
    "microdadosEnem_TP_ANO_CONCLUIU['TP_ANO_CONCLUIU'] = ['2014' if i == 5 else i for i in microdadosEnem_TP_ANO_CONCLUIU['TP_ANO_CONCLUIU']]\n",
    "microdadosEnem_TP_ANO_CONCLUIU['TP_ANO_CONCLUIU'] = ['2013' if i == 6 else i for i in microdadosEnem_TP_ANO_CONCLUIU['TP_ANO_CONCLUIU']]\n",
    "microdadosEnem_TP_ANO_CONCLUIU['TP_ANO_CONCLUIU'] = ['2012' if i == 7 else i for i in microdadosEnem_TP_ANO_CONCLUIU['TP_ANO_CONCLUIU']]\n",
    "microdadosEnem_TP_ANO_CONCLUIU['TP_ANO_CONCLUIU'] = ['2011' if i == 8 else i for i in microdadosEnem_TP_ANO_CONCLUIU['TP_ANO_CONCLUIU']]\n",
    "microdadosEnem_TP_ANO_CONCLUIU['TP_ANO_CONCLUIU'] = ['2010' if i == 9 else i for i in microdadosEnem_TP_ANO_CONCLUIU['TP_ANO_CONCLUIU']]\n",
    "microdadosEnem_TP_ANO_CONCLUIU['TP_ANO_CONCLUIU'] = ['2009' if i == 10 else i for i in microdadosEnem_TP_ANO_CONCLUIU['TP_ANO_CONCLUIU']]\n",
    "microdadosEnem_TP_ANO_CONCLUIU['TP_ANO_CONCLUIU'] = ['2008' if i == 11 else i for i in microdadosEnem_TP_ANO_CONCLUIU['TP_ANO_CONCLUIU']]\n",
    "microdadosEnem_TP_ANO_CONCLUIU['TP_ANO_CONCLUIU'] = ['2007' if i == 12 else i for i in microdadosEnem_TP_ANO_CONCLUIU['TP_ANO_CONCLUIU']]\n",
    "microdadosEnem_TP_ANO_CONCLUIU['TP_ANO_CONCLUIU'] = ['Antes de 2007' if i == 13 else i for i in microdadosEnem_TP_ANO_CONCLUIU['TP_ANO_CONCLUIU']]"
   ]
  },
  {
   "cell_type": "code",
   "execution_count": 64,
   "metadata": {},
   "outputs": [
    {
     "data": {
      "text/plain": [
       "TP_ANO_CONCLUIU\n",
       "Não informado      2203392\n",
       "2018                660960\n",
       "2017                447324\n",
       "Antes de 2007       405376\n",
       "2016                307227\n",
       "2015                232860\n",
       "2014                182887\n",
       "2013                144797\n",
       "2012                123774\n",
       "2011                 97015\n",
       "2010                 88481\n",
       "2009                 78232\n",
       "2008                 63817\n",
       "2007                 59128\n",
       "dtype: int64"
      ]
     },
     "execution_count": 64,
     "metadata": {},
     "output_type": "execute_result"
    }
   ],
   "source": [
    "microdadosEnem_TP_ANO_CONCLUIU.value_counts()"
   ]
  },
  {
   "cell_type": "markdown",
   "metadata": {},
   "source": [
    "Agora vamos ver qual a proporção de alunos do Enem que vieram de escolas públicas ou não."
   ]
  },
  {
   "cell_type": "code",
   "execution_count": 68,
   "metadata": {},
   "outputs": [],
   "source": [
    "microdadosEnem_TP_ESCOLA = pd.read_csv('brutos/MICRODADOS_ENEM_2019.csv', sep=';', encoding='ISO-8859-1', usecols=['TP_ESCOLA'])"
   ]
  },
  {
   "cell_type": "code",
   "execution_count": 69,
   "metadata": {},
   "outputs": [
    {
     "data": {
      "text/html": [
       "<div>\n",
       "<style scoped>\n",
       "    .dataframe tbody tr th:only-of-type {\n",
       "        vertical-align: middle;\n",
       "    }\n",
       "\n",
       "    .dataframe tbody tr th {\n",
       "        vertical-align: top;\n",
       "    }\n",
       "\n",
       "    .dataframe thead th {\n",
       "        text-align: right;\n",
       "    }\n",
       "</style>\n",
       "<table border=\"1\" class=\"dataframe\">\n",
       "  <thead>\n",
       "    <tr style=\"text-align: right;\">\n",
       "      <th></th>\n",
       "      <th>TP_ESCOLA</th>\n",
       "    </tr>\n",
       "  </thead>\n",
       "  <tbody>\n",
       "    <tr>\n",
       "      <th>0</th>\n",
       "      <td>1</td>\n",
       "    </tr>\n",
       "    <tr>\n",
       "      <th>1</th>\n",
       "      <td>1</td>\n",
       "    </tr>\n",
       "    <tr>\n",
       "      <th>2</th>\n",
       "      <td>3</td>\n",
       "    </tr>\n",
       "    <tr>\n",
       "      <th>3</th>\n",
       "      <td>2</td>\n",
       "    </tr>\n",
       "    <tr>\n",
       "      <th>4</th>\n",
       "      <td>1</td>\n",
       "    </tr>\n",
       "  </tbody>\n",
       "</table>\n",
       "</div>"
      ],
      "text/plain": [
       "   TP_ESCOLA\n",
       "0          1\n",
       "1          1\n",
       "2          3\n",
       "3          2\n",
       "4          1"
      ]
     },
     "execution_count": 69,
     "metadata": {},
     "output_type": "execute_result"
    }
   ],
   "source": [
    "microdadosEnem_TP_ESCOLA.head()"
   ]
  },
  {
   "cell_type": "code",
   "execution_count": 70,
   "metadata": {},
   "outputs": [],
   "source": [
    "# Aqui formatamos os dados para serem melhores de visualizar\n",
    "microdadosEnem_TP_ESCOLA['TP_ESCOLA'] = ['Não respondeu' if i == 1 else i for i in microdadosEnem_TP_ESCOLA['TP_ESCOLA']]\n",
    "microdadosEnem_TP_ESCOLA['TP_ESCOLA'] = ['Pública' if i == 2 else i for i in microdadosEnem_TP_ESCOLA['TP_ESCOLA']]\n",
    "microdadosEnem_TP_ESCOLA['TP_ESCOLA'] = ['Privada' if i == 3 else i for i in microdadosEnem_TP_ESCOLA['TP_ESCOLA']]\n",
    "microdadosEnem_TP_ESCOLA['TP_ESCOLA'] = ['Exterior' if i == 4 else i for i in microdadosEnem_TP_ESCOLA['TP_ESCOLA']]"
   ]
  },
  {
   "cell_type": "code",
   "execution_count": 71,
   "metadata": {},
   "outputs": [
    {
     "data": {
      "text/plain": [
       "TP_ESCOLA    \n",
       "Não respondeu    3629376\n",
       "Pública          1247262\n",
       "Privada           218632\n",
       "dtype: int64"
      ]
     },
     "execution_count": 71,
     "metadata": {},
     "output_type": "execute_result"
    }
   ],
   "source": [
    "microdadosEnem_TP_ESCOLA.value_counts()"
   ]
  }
 ],
 "metadata": {
  "kernelspec": {
   "display_name": "Python 3",
   "language": "python",
   "name": "python3"
  },
  "language_info": {
   "codemirror_mode": {
    "name": "ipython",
    "version": 3
   },
   "file_extension": ".py",
   "mimetype": "text/x-python",
   "name": "python",
   "nbconvert_exporter": "python",
   "pygments_lexer": "ipython3",
   "version": "3.6.9"
  }
 },
 "nbformat": 4,
 "nbformat_minor": 4
}
